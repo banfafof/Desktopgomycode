{
 "cells": [
  {
   "cell_type": "markdown",
   "id": "73792b22",
   "metadata": {},
   "source": [
    "# exercice visualisation "
   ]
  },
  {
   "cell_type": "code",
   "execution_count": null,
   "id": "e18224c9",
   "metadata": {},
   "outputs": [],
   "source": [
    "import pandas as pd                # importations de la bibliothèque pandas \n",
    "df = pd.read_csv('titanic-passengers.csv' , encoding = \"ISO-8859-1\" ,sep = ';') # importons le tableaux des passagers de titanic\n",
    "df.head()\n",
    "print(df['Cabin'].head())\n",
    "print(df['Cabin'].head().isnull())\n",
    "df.fillna(df.mode().round(2), inplace=True)  # utilisons le mode pour remplacer les valeurs \n",
    "print(df)   \n"
   ]
  },
  {
   "cell_type": "code",
   "execution_count": null,
   "id": "a961f113",
   "metadata": {},
   "outputs": [],
   "source": [
    "import pandas as pd \n",
    "import numpy as np \n",
    "import matplotlib.pyplot as ptl\n",
    "%matplotlib inline \n",
    "import seaborn as sns\n",
    "\n",
    "plt.xlabe(\"Age\")\n",
    "plt.ylabel(\"Sex\")\n",
    "new_data['Age'].['Sex'].plot.hist()\n",
    "\n",
    "df = pd.read_csv('titanic-passengers.csv' , encoding = \"ISO-8859-1\" ,sep = ';') # importons le tableaux des passagers de titanic\n",
    "df.head()\n",
    "print(df['Cabin'].head())\n",
    "print(df['Cabin'].head().isnull(\n",
    "\n",
    "def plot_correlation_map( df ):\n",
    "    corr = df.corr()\n",
    "    s , ax = plt.subplots( figsize =( 12 , 10 ) )\n",
    "    cmap = sns.diverging_palette( 220 , 10 , as_cmap = True )\n",
    "    s = sns.heatmap(\n",
    "        corr, \n",
    "        cmap = cmap,\n",
    "        carré=Vrai, \n",
    "        cbar_kws={ 'réduire' : .9 }, \n",
    "        hache=hache, \n",
    "        annot = Vrai, \n",
    "        annot_kws = { 'fontsize' : 12 }\n",
    "        )\n"
   ]
  }
 ],
 "metadata": {
  "kernelspec": {
   "display_name": "Python 3 (ipykernel)",
   "language": "python",
   "name": "python3"
  },
  "language_info": {
   "codemirror_mode": {
    "name": "ipython",
    "version": 3
   },
   "file_extension": ".py",
   "mimetype": "text/x-python",
   "name": "python",
   "nbconvert_exporter": "python",
   "pygments_lexer": "ipython3",
   "version": "3.9.13"
  }
 },
 "nbformat": 4,
 "nbformat_minor": 5
}
