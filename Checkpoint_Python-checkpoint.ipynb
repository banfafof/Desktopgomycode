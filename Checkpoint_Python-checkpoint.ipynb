{
 "cells": [
  {
   "cell_type": "markdown",
   "id": "e9f5e162",
   "metadata": {},
   "source": [
    "# excercice 1"
   ]
  },
  {
   "cell_type": "code",
   "execution_count": 5,
   "id": "06c8f3b8",
   "metadata": {},
   "outputs": [
    {
     "ename": "SyntaxError",
     "evalue": "invalid syntax (2945501209.py, line 1)",
     "output_type": "error",
     "traceback": [
      "\u001b[1;36m  File \u001b[1;32m\"C:\\Users\\Asus pc\\AppData\\Local\\Temp\\ipykernel_3876\\2945501209.py\"\u001b[1;36m, line \u001b[1;32m1\u001b[0m\n\u001b[1;33m    n%7==0 and n%5!==0;   # pour que n soir ajouter dans la liste\u001b[0m\n\u001b[1;37m                    ^\u001b[0m\n\u001b[1;31mSyntaxError\u001b[0m\u001b[1;31m:\u001b[0m invalid syntax\n"
     ]
    }
   ],
   "source": [
    "n%7==0 and n%5!==0;   # pour que n soir ajouter dans la liste\n",
    "L=[] # création de liste\n",
    "for n in range(2000, 3200):# utilisons la fonction for range pour executer la fonction de plage (2000, 32000)\n",
    "    print(n)\n",
    "    if n%7==0 and n%5!==0: \n",
    "        L.append(n)\n",
    "        print(L)   # imprimons L"
   ]
  },
  {
   "cell_type": "markdown",
   "id": "ca8d9147",
   "metadata": {},
   "source": [
    "# exerciece 2"
   ]
  },
  {
   "cell_type": "code",
   "execution_count": 8,
   "id": "f92319ae",
   "metadata": {},
   "outputs": [
    {
     "name": "stdout",
     "output_type": "stream",
     "text": [
      "Factoriel de 5 est 120\n"
     ]
    }
   ],
   "source": [
    "def factoriel(num): \n",
    "    if num < 0: \n",
    "        print(\"La factorielle de nombre négatif n'existe pas\")\n",
    "\n",
    "    elif num == 0: \n",
    "        return 1\n",
    "                                   # utilisons if , elif, else et while pour les itérations  \n",
    "    else: \n",
    "        fact = 1\n",
    "        while(num > 1): \n",
    "            fact *= num \n",
    "            num -= 1\n",
    "        return fact \n",
    "\n",
    "num = 5; \n",
    "\n",
    "print(\"Factoriel de\",num,\"est\", factoriel(num))    # imprmons facturiel de "
   ]
  },
  {
   "cell_type": "markdown",
   "id": "f4e7b666",
   "metadata": {},
   "source": [
    "# exercice 3"
   ]
  },
  {
   "cell_type": "code",
   "execution_count": 4,
   "id": "ea7af6a1",
   "metadata": {},
   "outputs": [],
   "source": []
  },
  {
   "cell_type": "markdown",
   "id": "6e04e359",
   "metadata": {},
   "source": [
    "# EXERCICE 4"
   ]
  },
  {
   "cell_type": "code",
   "execution_count": null,
   "id": "8aec7d13",
   "metadata": {},
   "outputs": [],
   "source": []
  },
  {
   "cell_type": "markdown",
   "id": "0ae0efb4",
   "metadata": {},
   "source": [
    "# EXERCICE 5"
   ]
  },
  {
   "cell_type": "code",
   "execution_count": 8,
   "id": "3a5651a1",
   "metadata": {},
   "outputs": [
    {
     "name": "stdout",
     "output_type": "stream",
     "text": [
      "[[0 1]\n",
      " [2 3]\n",
      " [4 5]]\n",
      "[array([0, 1]), array([2, 3]), array([4, 5])]\n"
     ]
    }
   ],
   "source": [
    "import numpy as np                   # importons numpy\n",
    "a = np.array([[0, 1], [2, 3], [4, 5]]) # déclarons le tableau \n",
    "print(a)\n",
    "l = list(a)                            # utilison la fonction pour convertir \"a\"\n",
    "print(l)                               # imprimons l"
   ]
  },
  {
   "cell_type": "markdown",
   "id": "36294f0d",
   "metadata": {},
   "source": [
    "# EXERCICE 6"
   ]
  },
  {
   "cell_type": "code",
   "execution_count": 8,
   "id": "890c7d6d",
   "metadata": {},
   "outputs": [
    {
     "name": "stdout",
     "output_type": "stream",
     "text": [
      "[0 1 2]\n",
      "[2 1 0]\n",
      "[[ 1. -1.]\n",
      " [-1.  1.]]\n"
     ]
    }
   ],
   "source": [
    "import numpy as np    # importons la fonction Numpy\n",
    "a = np.array([0, 1, 2])    # déclarons le tableau 1\n",
    "print(a)                   # imprimons a\n",
    "b = np.array([2, 1, 0])    # déclarons le tableau 2\n",
    "print(b)                   # imprmons b \n",
    "covariance = np.cov(a, b)  # utilison la fonction covariance pour inverser les valeurs\n",
    "print(covariance)          # imprimons la fonction covariance"
   ]
  },
  {
   "cell_type": "markdown",
   "id": "8950d524",
   "metadata": {},
   "source": [
    "# EXERICICE 7"
   ]
  },
  {
   "cell_type": "code",
   "execution_count": null,
   "id": "816122c2",
   "metadata": {},
   "outputs": [],
   "source": []
  },
  {
   "cell_type": "code",
   "execution_count": null,
   "id": "34bce2a9",
   "metadata": {},
   "outputs": [],
   "source": []
  },
  {
   "cell_type": "code",
   "execution_count": null,
   "id": "f767f518",
   "metadata": {},
   "outputs": [],
   "source": []
  }
 ],
 "metadata": {
  "kernelspec": {
   "display_name": "Python 3 (ipykernel)",
   "language": "python",
   "name": "python3"
  },
  "language_info": {
   "codemirror_mode": {
    "name": "ipython",
    "version": 3
   },
   "file_extension": ".py",
   "mimetype": "text/x-python",
   "name": "python",
   "nbconvert_exporter": "python",
   "pygments_lexer": "ipython3",
   "version": "3.9.13"
  }
 },
 "nbformat": 4,
 "nbformat_minor": 5
}
